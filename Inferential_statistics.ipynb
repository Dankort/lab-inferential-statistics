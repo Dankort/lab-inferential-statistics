{
  "nbformat": 4,
  "nbformat_minor": 0,
  "metadata": {
    "colab": {
      "provenance": [],
      "authorship_tag": "ABX9TyPyY+bl4JS5xCoZWkHUBpDI",
      "include_colab_link": true
    },
    "kernelspec": {
      "name": "python3",
      "display_name": "Python 3"
    },
    "language_info": {
      "name": "python"
    }
  },
  "cells": [
    {
      "cell_type": "markdown",
      "metadata": {
        "id": "view-in-github",
        "colab_type": "text"
      },
      "source": [
        "<a href=\"https://colab.research.google.com/github/Dankort/lab-inferential-statistics/blob/master/Inferential_statistics.ipynb\" target=\"_parent\"><img src=\"https://colab.research.google.com/assets/colab-badge.svg\" alt=\"Open In Colab\"/></a>"
      ]
    },
    {
      "cell_type": "markdown",
      "source": [
        "# 1.It is assumed that the mean systolic blood pressure is μ = 120 mm Hg. In the Honolulu Heart Study, a sample of n = 100 people had an average systolic blood pressure of 130.1 mm Hg with a standard deviation of 21.21 mm Hg. Is the group significantly different (with respect to systolic blood pressure!) from the regular population?\n",
        "\n",
        "Set up the hypothesis test.\n",
        "Write down all the steps followed for setting up the test.\n",
        "\n",
        "\n"
      ],
      "metadata": {
        "id": "lYpD1d4rxz4E"
      }
    },
    {
      "cell_type": "code",
      "source": [
        "import math\n",
        "\n",
        "population_mean = 130.1\n",
        "sample_mean = 120\n",
        "sample_std = 21.21\n",
        "n =  100\n",
        "\n",
        "\n",
        "statistic = (population_mean - sample_std)/(sample_std/math.sqrt(n))\n",
        "statistic\n",
        "\n"
      ],
      "metadata": {
        "colab": {
          "base_uri": "https://localhost:8080/"
        },
        "id": "67ZfTzOfyHGZ",
        "outputId": "186445f8-8492-4488-95fb-7d729dabf1d1"
      },
      "execution_count": 20,
      "outputs": [
        {
          "output_type": "execute_result",
          "data": {
            "text/plain": [
              "51.338991041961336"
            ]
          },
          "metadata": {},
          "execution_count": 20
        }
      ]
    },
    {
      "cell_type": "markdown",
      "source": [
        "# 2. Calculate the test statistic by hand and also code it in Python. It should be 4.76190. We will take a look at how to make decisions based on this calculated value.\n"
      ],
      "metadata": {
        "id": "7epigzj0ycxM"
      }
    },
    {
      "cell_type": "code",
      "source": [
        "import scipy.stats as stats\n",
        "\n",
        "# Given data\n",
        "sample_mean = 130.1\n",
        "population_mean = 120\n",
        "sample_std = 21.21\n",
        "sample_size = 100\n",
        "\n",
        "# Calculate the test statistic\n",
        "t_statistic = (sample_mean - population_mean) / (sample_std / (sample_size ** 0.5))\n",
        "\n",
        "print(\"Calculated t-statistic:\", t_statistic)"
      ],
      "metadata": {
        "colab": {
          "base_uri": "https://localhost:8080/"
        },
        "id": "2zhj2dA_vhOM",
        "outputId": "dfd37c8f-a3bd-46c1-e3de-5f43b29b56e9"
      },
      "execution_count": 21,
      "outputs": [
        {
          "output_type": "stream",
          "name": "stdout",
          "text": [
            "Calculated t-statistic: 4.761904761904759\n"
          ]
        }
      ]
    },
    {
      "cell_type": "markdown",
      "source": [
        "# sample using Norm."
      ],
      "metadata": {
        "id": "BCyIpa81yo98"
      }
    },
    {
      "cell_type": "code",
      "source": [
        "import scipy.stats as stats\n",
        "from scipy.stats import ttest_ind, norm\n",
        "# Given data\n",
        "population_mean = 130.1\n",
        "sample_mean = 120\n",
        "sample_std = 21.21\n",
        "sample_size = 100\n",
        "\n",
        "# create the samples\n",
        "blood_pressure = norm.rvs(loc=sample_mean, scale=sample_std, size=sample_size)\n",
        "blood_pressure\n"
      ],
      "metadata": {
        "colab": {
          "base_uri": "https://localhost:8080/"
        },
        "id": "ZjFwjaxQvGPi",
        "outputId": "4c4ac028-6388-49e0-e6a7-823e81920a87"
      },
      "execution_count": 25,
      "outputs": [
        {
          "output_type": "execute_result",
          "data": {
            "text/plain": [
              "array([130.99750931, 123.49298371,  95.87735852, 126.07360317,\n",
              "       109.81371714,  98.94545033, 112.34829305, 115.33730712,\n",
              "       111.16927774, 134.20643857, 107.34083378, 120.89174654,\n",
              "       137.50782441, 103.46024681, 136.91098151, 142.1535594 ,\n",
              "        83.39578664, 108.98690401,  81.97921407, 155.92000931,\n",
              "       113.82910338, 123.76621556,  85.25899223,  94.90436759,\n",
              "        99.36752362, 130.96631895, 100.8575813 , 131.72909161,\n",
              "       136.00488957, 142.95483051, 152.73177241, 112.1158164 ,\n",
              "       126.0107116 , 125.13922087,  87.14052158, 107.70731876,\n",
              "       134.05407869, 116.06376267, 158.37814181, 121.73676793,\n",
              "       161.85838612, 112.4642437 , 138.72629168, 107.22760919,\n",
              "        84.88361168, 135.26208039, 123.24586804, 139.39664062,\n",
              "       112.74688661, 125.41892979,  95.65065254, 159.11254943,\n",
              "       101.58746075, 127.28362362,  94.44121756, 102.2066922 ,\n",
              "       125.42118735, 145.01620229, 110.04466588,  94.3441984 ,\n",
              "       120.66554283, 140.45729394,  90.35914486, 151.50157947,\n",
              "       151.98289291, 123.10904042,  79.92438204, 121.24412914,\n",
              "       140.58486632, 130.08243797, 125.97700551, 117.0245999 ,\n",
              "       137.93664367, 124.65821753, 143.90304002,  86.99427523,\n",
              "       115.52140251, 105.54035284, 114.13526561, 145.0188002 ,\n",
              "       124.9310397 , 142.1615948 , 105.87560813, 140.07465214,\n",
              "        97.1844158 , 132.32881905, 132.37269595, 110.03006364,\n",
              "       152.5790575 , 142.18566616, 117.18099698,  92.63323757,\n",
              "       136.17032231,  88.73900907, 106.34168125, 121.86221012,\n",
              "       141.77281151, 124.44134739, 144.13165925, 107.03771822])"
            ]
          },
          "metadata": {},
          "execution_count": 25
        }
      ]
    },
    {
      "cell_type": "code",
      "source": [
        "import numpy as np\n",
        "import scipy.stats as stats\n",
        "from scipy.stats import ttest_ind, norm\n",
        "(blood_pressure), np.mean(blood_pressure), np.std(blood_pressure)"
      ],
      "metadata": {
        "colab": {
          "base_uri": "https://localhost:8080/"
        },
        "id": "PhQ_mCEP3CU1",
        "outputId": "4d613a3d-2c96-4709-ab89-5f25d64cc2bd"
      },
      "execution_count": 23,
      "outputs": [
        {
          "output_type": "execute_result",
          "data": {
            "text/plain": [
              "(array([112.40185149, 139.2498627 , 124.94332334, 147.09641621,\n",
              "         97.59589793,  88.87808027, 129.14541765, 142.66054205,\n",
              "        123.85441312, 103.90023623, 147.55567083, 138.62941974,\n",
              "         80.23027268, 121.63425494, 117.51224971, 137.83538148,\n",
              "         99.26673607, 129.77719867, 148.95547265,  79.22662326,\n",
              "        105.66487431, 102.45996508, 125.53657428, 101.37452473,\n",
              "         58.27181081, 138.81051002, 126.12951371,  86.81848048,\n",
              "        136.13287204, 120.03623135, 100.00341945, 121.77992573,\n",
              "        153.53625451, 110.91825187,  83.23322535, 116.3566247 ,\n",
              "        129.22867081, 124.73718493, 106.67493378,  88.07636238,\n",
              "        107.89284348, 123.65620629, 151.27892836, 100.56313004,\n",
              "        105.29286677, 115.33677529, 148.3900561 , 134.8632408 ,\n",
              "        123.32494875, 115.30437494, 112.7727257 , 113.20393461,\n",
              "        112.74053941, 127.27211271, 121.35528314, 132.15878676,\n",
              "         94.30448615, 138.99503701, 120.52849271, 113.03452466,\n",
              "        119.21344563,  82.52691914, 104.91727028, 144.3784598 ,\n",
              "        128.48256277, 146.44600246, 111.32518548, 115.62035585,\n",
              "        110.39512558,  93.81135737,  97.55001674, 130.82411689,\n",
              "        125.38854572, 126.50448331, 146.14990274,  78.4603168 ,\n",
              "        155.21715225, 142.40008202, 126.1983041 , 137.14999205,\n",
              "         90.80988653,  95.20288856,  98.09984445,  97.6534945 ,\n",
              "        108.05774319, 124.16975973, 105.40081625, 130.41431681,\n",
              "        114.87434869, 150.16612746, 115.29864951,  99.17000174,\n",
              "        114.51883192, 111.0384429 , 120.39920668, 121.46376459,\n",
              "         95.75957005, 112.01069825,  88.95835127, 102.60748856]),\n",
              " 116.77432653628637,\n",
              " 19.722429090523526)"
            ]
          },
          "metadata": {},
          "execution_count": 23
        }
      ]
    }
  ]
}